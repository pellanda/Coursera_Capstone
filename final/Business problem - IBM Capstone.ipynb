{
    "cells": [
        {
            "cell_type": "markdown",
            "metadata": {},
            "source": "# IBM Data Science Capstone\n\nBruno Pellanda\n\nMay 2021"
        },
        {
            "cell_type": "markdown",
            "metadata": {},
            "source": "![Curitiba](https://github.com/pellanda/Coursera_Capstone/blob/master/Collage_Curitiba.png?raw=true)"
        },
        {
            "cell_type": "markdown",
            "metadata": {
                "collapsed": true
            },
            "source": "Curitiba is one of the biggest city in Brazil. As a resident of this city, I decided to use it in my capstone project.\n\nCuritiba is divided by more than 70 districts, based on that, we can analyze how each district is similar with others and how the square meter price is distribuited over the city.\n\nWhen we consider all these, we can create a map and information chart where the real estate index is placed on Curitiba and each district is clustered according to the venue similarities provided by foursquare API."
        }
    ],
    "metadata": {
        "kernelspec": {
            "display_name": "Python 3.7",
            "language": "python",
            "name": "python3"
        },
        "language_info": {
            "codemirror_mode": {
                "name": "ipython",
                "version": 3
            },
            "file_extension": ".py",
            "mimetype": "text/x-python",
            "name": "python",
            "nbconvert_exporter": "python",
            "pygments_lexer": "ipython3",
            "version": "3.7.10"
        }
    },
    "nbformat": 4,
    "nbformat_minor": 1
}